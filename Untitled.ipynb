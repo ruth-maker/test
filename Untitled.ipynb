{
 "cells": [
  {
   "cell_type": "code",
   "execution_count": 1,
   "metadata": {},
   "outputs": [],
   "source": [
    "words = '1234'"
   ]
  },
  {
   "cell_type": "code",
   "execution_count": 2,
   "metadata": {},
   "outputs": [
    {
     "data": {
      "text/plain": [
       "'1234'"
      ]
     },
     "execution_count": 2,
     "metadata": {},
     "output_type": "execute_result"
    }
   ],
   "source": [
    "words"
   ]
  },
  {
   "cell_type": "code",
   "execution_count": 3,
   "metadata": {},
   "outputs": [
    {
     "data": {
      "text/plain": [
       "1234"
      ]
     },
     "execution_count": 3,
     "metadata": {},
     "output_type": "execute_result"
    }
   ],
   "source": [
    "int(words)"
   ]
  },
  {
   "cell_type": "code",
   "execution_count": 4,
   "metadata": {},
   "outputs": [
    {
     "data": {
      "text/plain": [
       "1234.0"
      ]
     },
     "execution_count": 4,
     "metadata": {},
     "output_type": "execute_result"
    }
   ],
   "source": [
    "float(words)"
   ]
  },
  {
   "cell_type": "code",
   "execution_count": 6,
   "metadata": {},
   "outputs": [
    {
     "data": {
      "text/plain": [
       "('h', 'e', 'l', 'l', 'o', '!')"
      ]
     },
     "execution_count": 6,
     "metadata": {},
     "output_type": "execute_result"
    }
   ],
   "source": [
    "tuple('hello!')"
   ]
  },
  {
   "cell_type": "code",
   "execution_count": 7,
   "metadata": {},
   "outputs": [
    {
     "data": {
      "text/plain": [
       "('1', '2', '3', '4')"
      ]
     },
     "execution_count": 7,
     "metadata": {},
     "output_type": "execute_result"
    }
   ],
   "source": [
    "tuple(words)"
   ]
  },
  {
   "cell_type": "code",
   "execution_count": 8,
   "metadata": {},
   "outputs": [
    {
     "data": {
      "text/plain": [
       "str"
      ]
     },
     "execution_count": 8,
     "metadata": {},
     "output_type": "execute_result"
    }
   ],
   "source": [
    "type(words)"
   ]
  },
  {
   "cell_type": "code",
   "execution_count": 10,
   "metadata": {},
   "outputs": [],
   "source": [
    "newword = tuple(words)"
   ]
  },
  {
   "cell_type": "code",
   "execution_count": 11,
   "metadata": {},
   "outputs": [
    {
     "data": {
      "text/plain": [
       "tuple"
      ]
     },
     "execution_count": 11,
     "metadata": {},
     "output_type": "execute_result"
    }
   ],
   "source": [
    "type(words)\n",
    "type(newword)"
   ]
  },
  {
   "cell_type": "code",
   "execution_count": 12,
   "metadata": {},
   "outputs": [
    {
     "data": {
      "text/plain": [
       "str"
      ]
     },
     "execution_count": 12,
     "metadata": {},
     "output_type": "execute_result"
    }
   ],
   "source": [
    "type(words)"
   ]
  },
  {
   "cell_type": "code",
   "execution_count": 13,
   "metadata": {},
   "outputs": [
    {
     "data": {
      "text/plain": [
       "(1, 2, 3, 4, 5, 6)"
      ]
     },
     "execution_count": 13,
     "metadata": {},
     "output_type": "execute_result"
    }
   ],
   "source": [
    "tuple([1,2,3,4,5,6])"
   ]
  },
  {
   "cell_type": "code",
   "execution_count": 14,
   "metadata": {},
   "outputs": [
    {
     "data": {
      "text/plain": [
       "{'e', 'h', 'l', 'o'}"
      ]
     },
     "execution_count": 14,
     "metadata": {},
     "output_type": "execute_result"
    }
   ],
   "source": [
    "set('hello')"
   ]
  },
  {
   "cell_type": "code",
   "execution_count": 53,
   "metadata": {},
   "outputs": [
    {
     "name": "stdout",
     "output_type": "stream",
     "text": [
      "Please enter a number: 122222\n",
      "122222 is greater than ten!\n"
     ]
    }
   ],
   "source": [
    "user_input = int(input('Please enter a number: '))\n",
    "if user_input > 10:\n",
    "    print(user_input, 'is greater than ten!')\n",
    "elif user_input == 10:\n",
    "     print(user_input, 'is equal to ten!')\n",
    "else:\n",
    "    print(user_input, 'is less than ten!')"
   ]
  },
  {
   "cell_type": "code",
   "execution_count": 22,
   "metadata": {},
   "outputs": [
    {
     "data": {
      "text/plain": [
       "['a', 'n', 't']"
      ]
     },
     "execution_count": 22,
     "metadata": {},
     "output_type": "execute_result"
    }
   ],
   "source": [
    "list(tuple(\"ant\") )"
   ]
  },
  {
   "cell_type": "code",
   "execution_count": 36,
   "metadata": {},
   "outputs": [
    {
     "name": "stdout",
     "output_type": "stream",
     "text": [
      "p\n",
      "a\n",
      "o\n"
     ]
    }
   ],
   "source": [
    "for n in ['apple', 'amazon', 'google']:\n",
    "    print(n[2])    "
   ]
  },
  {
   "cell_type": "code",
   "execution_count": 38,
   "metadata": {},
   "outputs": [
    {
     "name": "stdout",
     "output_type": "stream",
     "text": [
      "0\n",
      "2\n",
      "4\n",
      "6\n",
      "8\n"
     ]
    }
   ],
   "source": [
    "num = 0,1,2,3,4,5,6,7,8,9\n",
    "for g in num [0::2]:\n",
    "    print(g)"
   ]
  },
  {
   "cell_type": "code",
   "execution_count": 37,
   "metadata": {},
   "outputs": [
    {
     "name": "stdout",
     "output_type": "stream",
     "text": [
      "apple\n",
      "google\n"
     ]
    }
   ],
   "source": [
    "for n in ['apple', 'amazon', 'google'][0::2]:\n",
    "    print(n)"
   ]
  },
  {
   "cell_type": "code",
   "execution_count": 1,
   "metadata": {},
   "outputs": [
    {
     "data": {
      "text/plain": [
       "range(0, 5)"
      ]
     },
     "execution_count": 1,
     "metadata": {},
     "output_type": "execute_result"
    }
   ],
   "source": [
    "range(5)"
   ]
  },
  {
   "cell_type": "code",
   "execution_count": 3,
   "metadata": {},
   "outputs": [
    {
     "name": "stdout",
     "output_type": "stream",
     "text": [
      "0\n",
      "3\n",
      "6\n",
      "9\n",
      "12\n",
      "15\n",
      "18\n",
      "21\n",
      "24\n",
      "27\n",
      "30\n"
     ]
    }
   ],
   "source": [
    "for r in range(0,33)[0::3]:\n",
    "    print(r)"
   ]
  },
  {
   "cell_type": "code",
   "execution_count": 30,
   "metadata": {},
   "outputs": [
    {
     "name": "stdout",
     "output_type": "stream",
     "text": [
      "nme:\n",
      "age:\n",
      "race:\n",
      "type:\n",
      "nme: ruth\n",
      "age: 20\n",
      "race: nigerian\n",
      "type: critical\n",
      "('nme:', 'ruth')\n",
      "('age:', 20)\n",
      "('race:', 'nigerian')\n",
      "('type:', 'critical')\n",
      "nme:\n",
      "age:\n",
      "race:\n",
      "type:\n",
      "ruth\n",
      "20\n",
      "nigerian\n",
      "critical\n"
     ]
    }
   ],
   "source": [
    "things = {'nme:': 'ruth', 'age:':20 ,'race:':'nigerian','type:':'critical'}\n",
    "for key in things:\n",
    "    print(key)\n",
    "    \n",
    "for k,v in things.items():\n",
    "    print(k,v)\n",
    "\n",
    "for i in things.items():\n",
    "    print(i)\n",
    "    \n",
    "for keys in things.keys():\n",
    "    print(keys)\n",
    "\n",
    "for values in things.values():\n",
    "    print(values)    \n",
    "    "
   ]
  },
  {
   "cell_type": "code",
   "execution_count": 35,
   "metadata": {},
   "outputs": [
    {
     "name": "stdout",
     "output_type": "stream",
     "text": [
      "0\n",
      "1\n",
      "2\n",
      "3\n",
      "4\n",
      "5\n",
      "0\n",
      "1\n",
      "2\n",
      "3\n",
      "4\n"
     ]
    }
   ],
   "source": [
    "for i in range(10):\n",
    "    print(i)\n",
    "    if i is 5:\n",
    "        break\n",
    "        \n",
    "for i in range(10):\n",
    "    if i is 5:\n",
    "        break\n",
    "    print(i)\n",
    "        "
   ]
  },
  {
   "cell_type": "code",
   "execution_count": 45,
   "metadata": {},
   "outputs": [
    {
     "name": "stdout",
     "output_type": "stream",
     "text": [
      "1\n",
      "3\n",
      "5\n",
      "7\n",
      "9\n"
     ]
    }
   ],
   "source": [
    "for i in range(10): # get odd numbers put continue first \n",
    "    if i % 2 == 0:\n",
    "        continue\n",
    "    print(i)\n"
   ]
  },
  {
   "cell_type": "code",
   "execution_count": 43,
   "metadata": {},
   "outputs": [
    {
     "name": "stdout",
     "output_type": "stream",
     "text": [
      "0\n",
      "2\n",
      "4\n",
      "6\n",
      "8\n"
     ]
    }
   ],
   "source": [
    "for i in range(10): #get even numbers put continue last \n",
    "    if i % 2 == 0:\n",
    "        print(i) \n",
    "    else:continue"
   ]
  },
  {
   "cell_type": "code",
   "execution_count": 44,
   "metadata": {},
   "outputs": [
    {
     "name": "stdout",
     "output_type": "stream",
     "text": [
      "0\n",
      "1\n",
      "2\n",
      "3\n",
      "4\n",
      "5\n",
      "6\n",
      "7\n",
      "8\n",
      "9\n"
     ]
    }
   ],
   "source": [
    "for i in range(10): #dosen't do anything\n",
    "    print(i)\n",
    "    if i % 2 == 0:\n",
    "        continue\n",
    "        "
   ]
  },
  {
   "cell_type": "code",
   "execution_count": 48,
   "metadata": {},
   "outputs": [
    {
     "name": "stdout",
     "output_type": "stream",
     "text": [
      "0 ruth\n",
      "ruth 0\n",
      "0 alex\n",
      "alex 0\n",
      "0 jane\n",
      "jane 0\n",
      "0 mary\n",
      "mary 0\n",
      "0 david\n",
      "david 0\n",
      "1 ruth\n",
      "ruth 1\n",
      "1 alex\n",
      "alex 1\n",
      "1 jane\n",
      "jane 1\n",
      "1 mary\n",
      "mary 1\n",
      "1 david\n",
      "david 1\n",
      "2 ruth\n",
      "ruth 2\n",
      "2 alex\n",
      "alex 2\n",
      "2 jane\n",
      "jane 2\n",
      "2 mary\n",
      "mary 2\n",
      "2 david\n",
      "david 2\n",
      "3 ruth\n",
      "ruth 3\n",
      "3 alex\n",
      "alex 3\n",
      "3 jane\n",
      "jane 3\n",
      "3 mary\n",
      "mary 3\n",
      "3 david\n",
      "david 3\n"
     ]
    }
   ],
   "source": [
    "#The matrix\n",
    "for i in range(4):\n",
    "    for j in ['ruth', 'alex','jane', 'mary', 'david']:\n",
    "        print(i,j)\n",
    "        print(j,i)\n",
    "\n"
   ]
  },
  {
   "cell_type": "code",
   "execution_count": 50,
   "metadata": {},
   "outputs": [
    {
     "name": "stdout",
     "output_type": "stream",
     "text": [
      "6\n"
     ]
    }
   ],
   "source": [
    "count = 6\n",
    "while count > 5:\n",
    "    print(count)\n",
    "    count = 0 "
   ]
  },
  {
   "cell_type": "code",
   "execution_count": 52,
   "metadata": {},
   "outputs": [
    {
     "name": "stdout",
     "output_type": "stream",
     "text": [
      "google\n",
      "intel\n",
      "amazon\n",
      "dell\n"
     ]
    }
   ],
   "source": [
    "count = 0\n",
    "companies = ['google','intel', 'amazon', 'dell']\n",
    "while count < len(companies):\n",
    "    print(companies[count])\n",
    "    count+=1"
   ]
  },
  {
   "cell_type": "code",
   "execution_count": 56,
   "metadata": {},
   "outputs": [
    {
     "name": "stdout",
     "output_type": "stream",
     "text": [
      "Please enter a number: 123\n",
      "Please enter another number479\n",
      "The total of the numbers you entered is 602\n"
     ]
    }
   ],
   "source": [
    "# Problem 1\n",
    "number =  int(input('Please enter a number: '))\n",
    "number2 = int(input('Please enter another number: '))\n",
    "total = number + number2\n",
    "print('The total of the numbers you entered is',total)"
   ]
  },
  {
   "cell_type": "code",
   "execution_count": 2,
   "metadata": {},
   "outputs": [
    {
     "name": "stdout",
     "output_type": "stream",
     "text": [
      "Please enter your name:  Ruth\n",
      "Please enter a number: 12\n",
      "RuthRuthRuthRuthRuthRuthRuthRuthRuthRuthRuthRuth\n"
     ]
    }
   ],
   "source": [
    "# Problem 2\n",
    "# Example 1\n",
    "name = input('Please enter your name:  ')\n",
    "num = int(input('Please enter a number: '))\n",
    "total = name  *  num\n",
    "print(total)\n"
   ]
  },
  {
   "cell_type": "code",
   "execution_count": 3,
   "metadata": {},
   "outputs": [
    {
     "name": "stdout",
     "output_type": "stream",
     "text": [
      "Please enter your name:  Ruth\n",
      "Please enter a number: 12\n",
      "Ruth\n",
      "Ruth\n",
      "Ruth\n",
      "Ruth\n",
      "Ruth\n",
      "Ruth\n",
      "Ruth\n",
      "Ruth\n",
      "Ruth\n",
      "Ruth\n",
      "Ruth\n",
      "Ruth\n"
     ]
    }
   ],
   "source": [
    "# Example 2 \n",
    "name = input('Please enter your name:  ')\n",
    "num = int(input('Please enter a number: '))\n",
    "\n",
    "for n in range(num):\n",
    "    print(name)"
   ]
  },
  {
   "cell_type": "code",
   "execution_count": 1,
   "metadata": {},
   "outputs": [
    {
     "name": "stdout",
     "output_type": "stream",
     "text": [
      "Please enter your name:  Ruth\n",
      "Please enter a number: 12\n",
      "Ruth\n",
      "Ruth\n",
      "Ruth\n",
      "Ruth\n",
      "Ruth\n",
      "Ruth\n",
      "Ruth\n",
      "Ruth\n",
      "Ruth\n",
      "Ruth\n",
      "Ruth\n",
      "Ruth\n"
     ]
    }
   ],
   "source": [
    "# Example 3\n",
    "name = input('Please enter your name:  ')\n",
    "num = int(input('Please enter a number: '))\n",
    "count  = 0\n",
    "while count< num:\n",
    "    print(name)\n",
    "    count+=1"
   ]
  },
  {
   "cell_type": "code",
   "execution_count": 5,
   "metadata": {},
   "outputs": [
    {
     "name": "stdout",
     "output_type": "stream",
     "text": [
      "Please enter your name:  Ruth\n",
      "Please enter a number: 12\n",
      "Ruth\n",
      "Ruth\n",
      "Ruth\n",
      "Ruth\n",
      "Ruth\n",
      "Ruth\n",
      "Ruth\n",
      "Ruth\n",
      "Ruth\n",
      "Ruth\n",
      "Ruth\n",
      "Ruth\n"
     ]
    }
   ],
   "source": [
    "# Example 4\n",
    "name = input('Please enter your name:  ')\n",
    "num = int(input('Please enter a number: '))\n",
    "count  = 1\n",
    "while count< ( 1 + num):\n",
    "    print(name)\n",
    "    count+=1"
   ]
  },
  {
   "cell_type": "code",
   "execution_count": 1,
   "metadata": {},
   "outputs": [
    {
     "name": "stdout",
     "output_type": "stream",
     "text": [
      "Please eneter a number: 2\n",
      "0\n",
      "2\n",
      "4\n",
      "6\n",
      "8\n",
      "10\n",
      "12\n",
      "14\n",
      "16\n",
      "18\n",
      "20\n"
     ]
    }
   ],
   "source": [
    "# Problem 3\n",
    "# Example 1\n",
    "num = int(input('Please eneter a number: '))\n",
    "for i in range(1):\n",
    "    print(num * 0)\n",
    "    print(num * 1)\n",
    "    print(num * 2)\n",
    "    print(num * 3)\n",
    "    print(num * 4)\n",
    "    print(num * 5)\n",
    "    print(num * 6)\n",
    "    print(num * 7)\n",
    "    print(num * 8)\n",
    "    print(num * 9)\n",
    "    print(num * 10)"
   ]
  },
  {
   "cell_type": "code",
   "execution_count": 4,
   "metadata": {},
   "outputs": [
    {
     "name": "stdout",
     "output_type": "stream",
     "text": [
      "Please eneter a number: 2\n",
      "0\n",
      "2\n",
      "4\n",
      "6\n",
      "8\n",
      "10\n",
      "12\n",
      "14\n",
      "16\n",
      "18\n",
      "20\n"
     ]
    }
   ],
   "source": [
    "# Example 2\n",
    "num = int(input('Please eneter a number: '))\n",
    "for i in range(11):\n",
    "    print(num * i)\n",
    "    "
   ]
  },
  {
   "cell_type": "code",
   "execution_count": 6,
   "metadata": {},
   "outputs": [
    {
     "name": "stdout",
     "output_type": "stream",
     "text": [
      "Please eneter a number: 2\n",
      "Please enter another number: 4\n",
      "6 Adding both numbers!\n",
      "-2 Subbtracting both numbers!\n",
      "8 Multiplying both numbers! \n",
      "0 Dividing bithe numbers! \n"
     ]
    }
   ],
   "source": [
    "#Problem 4\n",
    "#Example 1\n",
    "num = int(input('Please eneter a number: '))\n",
    "num2 = int(input('Please enter another number: '))\n",
    "for i in range(1):\n",
    "    print(num + num2, 'Adding both numbers!')\n",
    "    print(num - num2, 'Subbtracting both numbers!')\n",
    "    print(num * num2, 'Multiplying both numbers! ')\n",
    "    print(num // num2, 'Dividing both numbers! ')"
   ]
  },
  {
   "cell_type": "code",
   "execution_count": 2,
   "metadata": {},
   "outputs": [
    {
     "name": "stdout",
     "output_type": "stream",
     "text": [
      "Please eneter a number: 43\n",
      "Please enter another number: 67\n",
      "Please enter the math symbol you will like to operate on these numbers, for division use //: *\n",
      "2881 Multiplying both numbers! \n"
     ]
    }
   ],
   "source": [
    "#Example 2\n",
    "num = int(input('Please eneter a number: '))\n",
    "num2 = int(input('Please enter another number: '))\n",
    "num3 = input('Please enter the math symbol you will like to operate on these numbers, for division use //: ')\n",
    "if num3 == '+':\n",
    "    print(num + num2, 'Adding both numbers!')\n",
    "elif num3 == '-':\n",
    "     print(num - num2, 'Subbtracting both numbers!')\n",
    "elif num3 == '*':    \n",
    "      print(num * num2, 'Multiplying both numbers! ')\n",
    "elif num3 == '//':       \n",
    "    print(num // num2, 'Dividing both numbers! ')\n",
    "else:\n",
    "    print('Wrong symbol!')"
   ]
  },
  {
   "cell_type": "code",
   "execution_count": 5,
   "metadata": {},
   "outputs": [
    {
     "data": {
      "text/plain": [
       "8"
      ]
     },
     "execution_count": 5,
     "metadata": {},
     "output_type": "execute_result"
    }
   ],
   "source": [
    "#Problem 5, finding the lenght without using the len()func\n",
    "wordlist = [1,2,3,4,5,6,7,8]\n",
    "count = 0\n",
    "for i in wordlist:\n",
    "    count+=1\n",
    "    \n",
    "count\n"
   ]
  },
  {
   "cell_type": "code",
   "execution_count": 11,
   "metadata": {},
   "outputs": [
    {
     "data": {
      "text/plain": [
       "8"
      ]
     },
     "execution_count": 11,
     "metadata": {},
     "output_type": "execute_result"
    }
   ],
   "source": [
    "#Problem 6, finding the Max without using the max()func\n",
    "#Example 1\n",
    "wordlist = [2,4,5,6,7,8,4]\n",
    "maxx = wordlist[0]\n",
    "for i in wordlist:\n",
    "    if i > maxx:\n",
    "         maxx = i\n",
    "maxx        "
   ]
  },
  {
   "cell_type": "code",
   "execution_count": 12,
   "metadata": {},
   "outputs": [
    {
     "data": {
      "text/plain": [
       "1"
      ]
     },
     "execution_count": 12,
     "metadata": {},
     "output_type": "execute_result"
    }
   ],
   "source": [
    "#Example 2, finding the min\n",
    "wordlist = [2,4,5,6,7,8,1]\n",
    "minn = wordlist[0]\n",
    "for i in wordlist:\n",
    "    if i < minn:\n",
    "         minn = i\n",
    "minn        "
   ]
  },
  {
   "cell_type": "code",
   "execution_count": 15,
   "metadata": {},
   "outputs": [
    {
     "name": "stdout",
     "output_type": "stream",
     "text": [
      "Avg: 41\n"
     ]
    }
   ],
   "source": [
    "#Problem 7, finding the average\n",
    "wordlist = [2,3,4,5,6,7,8,9]\n",
    "total = 0\n",
    "for i in wordlist:\n",
    "    total+= i\n",
    "    \n",
    "count = 0\n",
    "for l in wordlist:\n",
    "     count+=1\n",
    "\n",
    "avg= total // count\n",
    "avg\n",
    " \n",
    "#Simplifiied\n",
    "wordlist2 = [2,44,5,67,89]\n",
    "count2 = 0\n",
    "total2 = 0\n",
    "for e in wordlist2:\n",
    "    total2+= e\n",
    "    count2+= 1 \n",
    "print('Avg:',total2//count2)\n",
    "    \n",
    "\n",
    "    "
   ]
  },
  {
   "cell_type": "code",
   "execution_count": 5,
   "metadata": {},
   "outputs": [
    {
     "data": {
      "text/plain": [
       "9"
      ]
     },
     "execution_count": 5,
     "metadata": {},
     "output_type": "execute_result"
    }
   ],
   "source": [
    "# Brainstorm for problem 7\n",
    "wordlist = [2,3,4]\n",
    "total = 0\n",
    "for i in wordlist:\n",
    "    total+= i\n",
    "total"
   ]
  },
  {
   "cell_type": "code",
   "execution_count": 27,
   "metadata": {},
   "outputs": [
    {
     "name": "stdout",
     "output_type": "stream",
     "text": [
      "Please enter a number:12\n",
      "12 is not divisible by 7 or 5!\n"
     ]
    }
   ],
   "source": [
    "# Problem 8\n",
    "recieve = int(input('Please enter a number:'))\n",
    "\n",
    "if recieve % 7 == 0 and recieve % 5 == 0:\n",
    "    print(recieve,'is divisible by 7 and 5!')\n",
    "elif recieve % 5 == 0:\n",
    "    print(recieve,'is divisilbe by 5!')\n",
    "elif recieve % 7 == 0:\n",
    "    print(recieve,'is divisible by 7!')\n",
    "else:\n",
    "    print(recieve, 'is not divisible by 7 or 5!')"
   ]
  },
  {
   "cell_type": "code",
   "execution_count": 32,
   "metadata": {},
   "outputs": [
    {
     "name": "stdout",
     "output_type": "stream",
     "text": [
      "Please enter a wrod or sentenc:my name is ruth ovuike\n",
      "There are 2 'e'in your word or sentence!\n"
     ]
    }
   ],
   "source": [
    "# Problem 9\n",
    "word = input('Please enter a wrod or sentenc:')\n",
    "total = 0\n",
    "for i in word:\n",
    "    if i == 'e':\n",
    "        total+= 1\n",
    "print(\"There are %d 'e'in your word or sentence!\" % total)\n"
   ]
  },
  {
   "cell_type": "code",
   "execution_count": 34,
   "metadata": {},
   "outputs": [
    {
     "name": "stdout",
     "output_type": "stream",
     "text": [
      "Judy\n",
      "Athira\n",
      "Anu\n"
     ]
    }
   ],
   "source": [
    "# Problem 10\n",
    "mathscores = {'Judy':94, 'Niti':88, 'Athira':97, 'Anu':93, 'Ram':55}\n",
    "for k,v in mathscores.items():\n",
    "    if v > 90:\n",
    "        print(k)"
   ]
  },
  {
   "cell_type": "code",
   "execution_count": 36,
   "metadata": {},
   "outputs": [
    {
     "name": "stdout",
     "output_type": "stream",
     "text": [
      "Ram 65\n"
     ]
    }
   ],
   "source": [
    "# Problem 11\n",
    "mathscores = {'Judy':94, 'Niti':88, 'Athira':97, 'Anu':93, 'Ram':55}\n",
    "for k,v in mathscores.items():\n",
    "    if v > 50 and v < 60:\n",
    "        v+= 10\n",
    "        print(k,v)\n"
   ]
  },
  {
   "cell_type": "code",
   "execution_count": 38,
   "metadata": {},
   "outputs": [
    {
     "name": "stdout",
     "output_type": "stream",
     "text": [
      "Please enter a sentence:AEIOUAAAEEEEE\n",
      "You have 13 vowels in your sentence!\n"
     ]
    }
   ],
   "source": [
    "# Problem 12\n",
    "vowels = input('Please enter a sentence:')\n",
    "count = 0\n",
    "for i in vowels:\n",
    "    if i == 'a' or i == 'A':\n",
    "        count+=1\n",
    "    elif i == 'e'or i == 'E':\n",
    "        count+=1\n",
    "    elif i == 'i'or i == 'I':\n",
    "        count+=1\n",
    "    elif i == 'o'or i == 'O':\n",
    "        count+=1\n",
    "    elif i == 'u'or i == 'U':\n",
    "        count+=1\n",
    "        \n",
    "print('You have %d vowels in your sentence!'%count)"
   ]
  },
  {
   "cell_type": "code",
   "execution_count": 40,
   "metadata": {},
   "outputs": [
    {
     "name": "stdout",
     "output_type": "stream",
     "text": [
      "Please enter a sentce:aeooouuu\n",
      "You have 8 vowels in your sentence!\n"
     ]
    }
   ],
   "source": [
    "#Problem 12 Similfied\n",
    "vowels = input ('Please enter a sentce:')\n",
    "count = 0\n",
    "vow1 = ['a','A','e','E','i','I','o','O','u','U']\n",
    "for i in vowels:\n",
    "    if i in vow1:\n",
    "        count+=1\n",
    "print('You have %d vowels in your sentence!'%count)"
   ]
  },
  {
   "cell_type": "code",
   "execution_count": 45,
   "metadata": {},
   "outputs": [
    {
     "name": "stdout",
     "output_type": "stream",
     "text": [
      "Please enter names of student: mary,paul,steve\n"
     ]
    },
    {
     "data": {
      "text/plain": [
       "{'mary': 0, 'paul': 0, 'steve': 0}"
      ]
     },
     "execution_count": 45,
     "metadata": {},
     "output_type": "execute_result"
    }
   ],
   "source": [
    "# Problem 13\n",
    "names = input('Please enter names of student: ')\n",
    "userslist = names.split(',')\n",
    "score = {}\n",
    "for i in userslist:\n",
    "    score[i.strip()]=0\n",
    "score    "
   ]
  },
  {
   "cell_type": "code",
   "execution_count": 47,
   "metadata": {},
   "outputs": [
    {
     "name": "stdout",
     "output_type": "stream",
     "text": [
      "Enter names, to stop type exit:Ruth paul\n",
      "['r', 'u', 't', 'h', ' ', 'p', 'a', 'u', 'l']\n"
     ]
    }
   ],
   "source": [
    "# Problem 14, Attempt\n",
    "names = input('Enter names, to stop type exit:')\n",
    "nameslist = []\n",
    "for i in names.lower():\n",
    "    nameslist+=i\n",
    "    if i == 'exit':\n",
    "        break\n",
    "print(nameslist)"
   ]
  },
  {
   "cell_type": "code",
   "execution_count": 3,
   "metadata": {},
   "outputs": [
    {
     "name": "stdout",
     "output_type": "stream",
     "text": [
      "Enter names, to stop type exit: Ruth\n",
      "Enter names, to stop type exit: Paul\n",
      "Enter names, to stop type exit: Smith\n",
      "Enter names, to stop type exit: Mary\n",
      "Enter names, to stop type exit: exit\n"
     ]
    },
    {
     "data": {
      "text/plain": [
       "['Ruth', 'Paul', 'Smith', 'Mary']"
      ]
     },
     "execution_count": 3,
     "metadata": {},
     "output_type": "execute_result"
    }
   ],
   "source": [
    "# Problem 14\n",
    "nameslist = []\n",
    "while True:\n",
    "    names = input('Enter names, to stop type exit: ')\n",
    "    if names == 'exit': break\n",
    "    nameslist.append(names)\n",
    "nameslist"
   ]
  },
  {
   "cell_type": "code",
   "execution_count": 18,
   "metadata": {},
   "outputs": [
    {
     "name": "stdout",
     "output_type": "stream",
     "text": [
      "Please enter a number:5\n"
     ]
    },
    {
     "data": {
      "text/plain": [
       "120"
      ]
     },
     "execution_count": 18,
     "metadata": {},
     "output_type": "execute_result"
    }
   ],
   "source": [
    "# Harder Problem 1, for loop\n",
    "num = int(input('Please enter a number:'))\n",
    "num2 = list(range(1,num +1))\n",
    "total = 1\n",
    "for i in num2[::-1]:\n",
    "    total*= i\n",
    "total"
   ]
  },
  {
   "cell_type": "code",
   "execution_count": 1,
   "metadata": {},
   "outputs": [
    {
     "name": "stdout",
     "output_type": "stream",
     "text": [
      "enter a num5\n",
      "23\n"
     ]
    }
   ],
   "source": [
    "# Harder Problem 1, Brainstorm\n",
    "num = int(input('enter a num'))\n",
    "num2= list(range(1,num))\n",
    "count = 1\n",
    "for i in num2:\n",
    "    count*=i\n",
    "print(count-1)"
   ]
  },
  {
   "cell_type": "code",
   "execution_count": null,
   "metadata": {},
   "outputs": [],
   "source": [
    "# Harder Problem 2\n",
    "numlist = ()\n",
    "numlist2 = ()\n",
    "num = int(input('Please enter the number: '))\n",
    "if num % 1 == 0:\n",
    "    a = (num // 1)\n",
    "elif num % 2 == 0 :\n",
    "    b = (num // 2)\n",
    "elif num % 3 == 0 :\n",
    "    c = (num // 3)\n",
    "elif num % 4 == 0 :\n",
    "    d = (num // 4)\n",
    "elif num % 5 == 0 :\n",
    "    e = (num //5) \n",
    "elif num % 6 == 0 :\n",
    "    f = (num // 6)\n",
    "elif num % 7 == 0 :\n",
    "    g = (num // 7)\n",
    "elif num % 8 == 0 :\n",
    "    h = (num // 8)\n",
    "elif num % 9 == 0 :\n",
    "    i = (num // 9)\n",
    "elif num % 10 == 0 :\n",
    "    j = (num // 10)\n",
    "\n",
    "numlist+= a,b,c\n",
    "numlist2+= d,e,f\n",
    "numlist3+=g,h,i,\n",
    "\n",
    "numlist3 = set(numlsit)\n",
    "# failed"
   ]
  },
  {
   "cell_type": "code",
   "execution_count": 1,
   "metadata": {},
   "outputs": [
    {
     "name": "stdout",
     "output_type": "stream",
     "text": [
      "Plese enter the number:30\n",
      "1\n",
      "2\n",
      "3\n",
      "5\n",
      "6\n",
      "10\n",
      "15\n",
      "30\n"
     ]
    }
   ],
   "source": [
    "# Harder Problem 3\n",
    "num = int(input('Plese enter the number:'))\n",
    "count = 1\n",
    "while count<= num:\n",
    "    if num % count == 0:\n",
    "        print(count)\n",
    "    count+=1"
   ]
  },
  {
   "cell_type": "code",
   "execution_count": 4,
   "metadata": {},
   "outputs": [
    {
     "name": "stdout",
     "output_type": "stream",
     "text": [
      "Please enter a number: 2\n",
      "You do not have a prime number!\n"
     ]
    }
   ],
   "source": [
    "# Harder Problem 4\n",
    "num = int(input('Please enter a number: '))\n",
    "count = 1\n",
    "while count<= num:\n",
    "    if count % num == 0 and num % num ==0 :\n",
    "        print('You have a prime number!')\n",
    "        count+=1\n",
    "    else :\n",
    "        print('You do not have a prime number!')\n",
    "        break\n",
    "        \n"
   ]
  },
  {
   "cell_type": "code",
   "execution_count": null,
   "metadata": {},
   "outputs": [],
   "source": []
  }
 ],
 "metadata": {
  "kernelspec": {
   "display_name": "Python 3",
   "language": "python",
   "name": "python3"
  },
  "language_info": {
   "codemirror_mode": {
    "name": "ipython",
    "version": 3
   },
   "file_extension": ".py",
   "mimetype": "text/x-python",
   "name": "python",
   "nbconvert_exporter": "python",
   "pygments_lexer": "ipython3",
   "version": "3.7.4"
  }
 },
 "nbformat": 4,
 "nbformat_minor": 2
}
