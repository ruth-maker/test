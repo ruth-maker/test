{
 "cells": [
  {
   "cell_type": "code",
   "execution_count": null,
   "metadata": {},
   "outputs": [],
   "source": [
    "                        Virtual Environmrnts-Windows 10\n",
    "    -To create all your virtual environmenst in one place \n",
    "         * first install {pip install virtualenvwrapper-win}\n",
    "         * to check if it is installed {mkvirtualenv}\n",
    "         * to make a venv {mkvirtualenv + name}\n",
    "         * to see all your venv {workon} you can also use it to make new venv and move from one to another\n",
    "         * {python -m idleib idle} brings up python shell\n",
    "        \n",
    "                            15 CMD Commands\n",
    "            * CLS- clears screen\n",
    "            * CTRL(c)- stops command\n",
    "            * assoc - list files associations\n",
    "            * cipher- encodes deleted files\n",
    "            * driverquery - lists installed drivers\n",
    "            * ipconfig /all - Net working information\n",
    "            * netstat(-an)- list open ports\n",
    "            * systeminfo - list hardware info\n",
    "            * ping<ip or domain> - check if server is reachable\n",
    "            * pathpig<ip or domain> - ping and show how it got there\n",
    "            * tracery<ip or doman> - showss time between routing hops\n",
    "            * powercfg a - configure power options\n",
    "            * shutdown - shuts down your pc\n",
    "            * sfc/scannow - scan and repair system files\n",
    "            * tasklist - list currently running \n",
    "        \n",
    "                          11 Command prompt Secrets and tricks in windows\n",
    "            * prompt- lets you change the text prompt with the '/?'show you names you can use\n",
    "            * title - lets you change the title \n",
    "            * help - show you command prompt you can choose from or have any command and type /? to help\n",
    "            * [up and down airow key] - shows you the previous and latest things you typed\n",
    "            * doskey /history - shows you a list of all the things you have typed \n",
    "            * press 'f7'and it has a selection of all the things you have typed that you can select from\n",
    "            * && - allows you to complete two commands at the same time, put it in between the two commands\n",
    "            * |clip - allows you to copy and paste a command, e.g. help|clip\n",
    "            * > - allows you to send somethng to a file that is not created e.g. help>help.txt send everything about help to the new file\n",
    "            * >> - allows you to append to a file \n",
    "            * right click on the command bar and you see the defaults, allowing you chnge things \n",
    "            \n",
    "                           Using Bash to create files and folders\n",
    "            *ls - list the files and folders\n",
    "            *ls(-f) - gives you a list of all your files and  more info on your files\n",
    "            *ls + (a dir) - list all the files in that dir even though it is not you pwd\n",
    "            * a dir is the same thimg as a folder\n",
    "            *mkdir + (the name) - allows you to create a folder\n",
    "            *mkdir + (full dir path name) - allows you to make a folder in another folder\n",
    "            *touch - allows you to create a file\n",
    "            *touch + (path of dir) - allows yu to create a file to any chossen folder\n",
    "            \n",
    "                      \n",
    "                           How to upload files to github from gitbash\n",
    "            *\n",
    "            \n",
    "            \n",
    "            "
   ]
  },
  {
   "cell_type": "code",
   "execution_count": null,
   "metadata": {},
   "outputs": [],
   "source": []
  }
 ],
 "metadata": {
  "kernelspec": {
   "display_name": "Python 3",
   "language": "python",
   "name": "python3"
  },
  "language_info": {
   "codemirror_mode": {
    "name": "ipython",
    "version": 3
   },
   "file_extension": ".py",
   "mimetype": "text/x-python",
   "name": "python",
   "nbconvert_exporter": "python",
   "pygments_lexer": "ipython3",
   "version": "3.7.4"
  }
 },
 "nbformat": 4,
 "nbformat_minor": 2
}
